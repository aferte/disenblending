{
 "cells": [
  {
   "cell_type": "code",
   "execution_count": 1,
   "metadata": {
    "collapsed": true
   },
   "outputs": [],
   "source": [
    "import numpy as np\n",
    "import matplotlib.pyplot as plt\n",
    "from astropy import cosmology\n",
    "from astropy import constants as const\n",
    "%matplotlib inline\n",
    "H0,Om = 68.3, 0.299\n",
    "cosmo = cosmology.FlatLambdaCDM(H0,Om)\n"
   ]
  },
  {
   "cell_type": "code",
   "execution_count": 2,
   "metadata": {},
   "outputs": [
    {
     "name": "stderr",
     "output_type": "stream",
     "text": [
      "/anaconda/lib/python2.7/site-packages/astropy/units/quantity.py:951: RuntimeWarning: divide by zero encountered in true_divide\n",
      "  return super(Quantity, self).__truediv__(other)\n"
     ]
    },
    {
     "data": {
      "image/png": "[encoded data removed]",
      "text/plain": [
       "<matplotlib.figure.Figure at 0x106f26e10>"
      ]
     },
     "metadata": {},
     "output_type": "display_data"
    }
   ],
   "source": [
    "def lensing_kernel(z1,z2):\n",
    "    factor = const.c**2 / (4*np.pi*const.G)\n",
    "    sig_crit = factor * cosmo.angular_diameter_distance(z2) / cosmo.angular_diameter_distance(z1) /  cosmo.angular_diameter_distance_z1z2(z1,z2)\n",
    "    sig_crit_inv = 1./sig_crit.cgs.value\n",
    "    sig_crit_inv[~np.isfinite(sig_crit_inv)] = 0.\n",
    "    sig_crit_inv[sig_crit_inv < 0.]= 0.\n",
    "    return sig_crit_inv\n",
    "\n",
    "z1 = np.linspace(0,.999,100)\n",
    "z2 = 1.\n",
    "plt.plot(z1,lensing_kernel(z1,z2))\n",
    "plt.xlabel('z')\n",
    "plt.ylabel('lensing kernel')\n",
    "plt.show()"
   ]
  },
  {
   "cell_type": "code",
   "execution_count": null,
   "metadata": {},
   "outputs": [
    {
     "name": "stderr",
     "output_type": "stream",
     "text": [
      "/anaconda/lib/python2.7/site-packages/ipykernel_launcher.py:4: RuntimeWarning: divide by zero encountered in divide\n",
      "  after removing the cwd from sys.path.\n"
     ]
    }
   ],
   "source": [
    "def pz(z,z0 = 0.5,alpha= 2., beta = 2.):\n",
    "    f = (z/z0)**alpha * np.exp(-(z/z0)**beta)\n",
    "    return f\n",
    "\n",
    "def g_kernel(z,ngrid = 1000,zmax = 3.):\n",
    "\n",
    "    zgrid = np.linspace(0,zmax,ngrid)\n",
    "    pzgrid = pz(zgrid)\n",
    "    if len(z) > 1:\n",
    "        result = np.zeros_like(z)\n",
    "\n",
    "        for i,thisz in enumerate(z):`\n",
    "            integrand = lensing_kernel(thisz,zgrid[zgrid>thisz]) * pzgrid[zgrid>thisz]\n",
    "            result[i] = np.trapz(integrand,x=zgrid[zgrid>thisz])\n",
    "        return result\n",
    "    else:\n",
    "        integrand = lensing_kernel(thisz,zgrid)*pzgrid\n",
    "        return np.trapz(integrand,x=zgrid)\n",
    "\n",
    "\n",
    "def g_kernel_blend(zl,ngrid=1000,zmax=3.,R1 = 0.7,R2 = 0.3):\n",
    "    zgrid = np.linspace(0,zmax,ngrid)    \n",
    "    if len(zl)>1:\n",
    "        result = np.zeros_like(zl)\n",
    "        pz1_integrand = pz(zgrid) \n",
    "        pz2_integrand = pz(zgrid)\n",
    "        for i,zli in enumerate(zl):\n",
    "            zbgrid1,zbgrid2 = np.meshgrid(zgrid,zgrid)\n",
    "            sigcrit_inv_1 = lensing_kernel(zli,zbgrid1)\n",
    "            sigcrit_inv_2 = lensing_kernel(zli,zbgrid2)\n",
    "            integrand = pz1_integrand * pz2_integrand * (R1 * sigcrit_inv_1 + R2 * sigcrit_inv_2)\n",
    "            \n",
    "            first_integral = np.trapz(integrand,x = zbgrid2,axis=0)\n",
    "            second_integral = np.trapz(first_integral,x=zgrid)\n",
    "            result[i] = second_integral\n",
    "        return result\n",
    "    else:\n",
    "        zbgrid1,zbgrid2 = np.meshgrid(zgrid,zgrid)\n",
    "        pz1_integrand = pz(zbgrid1)\n",
    "        sigcrit_inv_1 = lensing_kernel(zli,zbgrid1)\n",
    "        pz2_integrand = pz(zbgrid2)\n",
    "        sigcrit_inv_2 = lensing_kernel(zl,zbgrid2)\n",
    "        integrand = pz1_integrand * pz2_integrand * (R1 * sigcrit_inv_1 + R2 * sigcrit_inv_2)\n",
    "        first_integral = np.trapz(integrand,x = zbgrid2,axis=0)\n",
    "        second_integral = np.trapz(first_integral,x=zgrid)\n",
    "        return second_integral\n",
    "    \n",
    "zz = np.linspace(0,2.5,20)\n",
    "gg = g_kernel(zz)\n",
    "gb = g_kernel_blend(zz)\n",
    "plt.plot(zz,gg)\n",
    "plt.plot(zz,gb)\n",
    "plt.plot(zz,pz(zz))\n",
    "plt.show()\n"
   ]
  },
  {
   "cell_type": "code",
   "execution_count": null,
   "metadata": {
    "collapsed": true
   },
   "outputs": [],
   "source": []
  }
 ],
 "metadata": {
  "kernelspec": {
   "display_name": "Python 2",
   "language": "python",
   "name": "python2"
  },
  "language_info": {
   "codemirror_mode": {
    "name": "ipython",
    "version": 2
   },
   "file_extension": ".py",
   "mimetype": "text/x-python",
   "name": "python",
   "nbconvert_exporter": "python",
   "pygments_lexer": "ipython2",
   "version": "2.7.13"
  }
 },
 "nbformat": 4,
 "nbformat_minor": 2
}
